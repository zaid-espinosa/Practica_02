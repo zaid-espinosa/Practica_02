{
 "cells": [
  {
   "cell_type": "markdown",
   "metadata": {},
   "source": [
    "# 1 Trabajando con clases"
   ]
  },
  {
   "cell_type": "markdown",
   "metadata": {},
   "source": [
    "**1.1Introducción**"
   ]
  },
  {
   "cell_type": "code",
   "execution_count": 5,
   "metadata": {},
   "outputs": [
    {
     "name": "stdout",
     "output_type": "stream",
     "text": [
      "2020 Audi A4\n"
     ]
    }
   ],
   "source": [
    "class Car():\n",
    "    #Clase tipo coche\n",
    "    def __init__(self, make, model, year):\n",
    "    #Inicializacion de los atributos\n",
    "        self.make = make\n",
    "        self.model = model\n",
    "        self.year = year\n",
    "    def get_descriptive_name(self):\n",
    "    #Imprime las caracteristicas en la pantalla\n",
    "        long_name = str(self.year)+ ' ' +self.make + ' ' +self.model\n",
    "        return long_name.title()\n",
    "\n",
    "my_new_car = Car('audi','a4',2020)\n",
    "print(my_new_car.get_descriptive_name())"
   ]
  },
  {
   "cell_type": "markdown",
   "metadata": {},
   "source": [
    "**Ejercicio 1: Capture el código y observe lo que aparece en la terminal, guarde el\n",
    "código como Ejercicio_01.py y suba el código a un nuevo repositrio en GitHub llamado\n",
    "Practica_02.**"
   ]
  }
 ],
 "metadata": {
  "kernelspec": {
   "display_name": "Python 3",
   "language": "python",
   "name": "python3"
  },
  "language_info": {
   "codemirror_mode": {
    "name": "ipython",
    "version": 3
   },
   "file_extension": ".py",
   "mimetype": "text/x-python",
   "name": "python",
   "nbconvert_exporter": "python",
   "pygments_lexer": "ipython3",
   "version": "3.7.4"
  }
 },
 "nbformat": 4,
 "nbformat_minor": 2
}
