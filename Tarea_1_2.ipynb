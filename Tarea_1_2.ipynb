{
 "cells": [
  {
   "cell_type": "code",
   "execution_count": 13,
   "metadata": {},
   "outputs": [
    {
     "name": "stdout",
     "output_type": "stream",
     "text": [
      "Se ha agregado el restaurant The Backyard\n",
      "El restaurante The Backyard trabaja el estilo de comida American.\n",
      "El restaurantye cuenta con : 50 clientes\n",
      "You cannot do that\n",
      "El restaurantye cuenta con : 50 clientes\n"
     ]
    }
   ],
   "source": [
    "class restaurant ():\n",
    "    def __init__ (self, restaurant_name, cuisine_type, time_open, time_close):\n",
    "        self.restaurant_name=restaurant_name\n",
    "        self.cuisine_type=cuisine_type\n",
    "        self.time_open=time_open\n",
    "        self.time_close=time_close\n",
    "        self.number_served=2\n",
    "        \n",
    "    def describe_restaurant(self):\n",
    "        print ('El restaurante ' + self.restaurant_name.title() + ' trabaja el estilo de comida ' + self.cuisine_type.title() + '.')\n",
    "\n",
    "    def open_restaurant(self):\n",
    "        return (self.restaurant_name.title() +  \" abre de lunes a domingo de {} hrs. a {} hrs.\").format(self.time_open,self.time_close)\n",
    "    \n",
    "    def diners(self):\n",
    "        print ('El restaurantye cuenta con : ' + str(self.number_served) + ' clientes')\n",
    "        \n",
    "    def set_number_served(self, diner):\n",
    "        if diner >= self.number_served:\n",
    "            self.number_served = diner\n",
    "        else: print (\"You cannot do that\")\n",
    "        \n",
    "one_restaurant=restaurant('the backyard','american',8,23)\n",
    "print (\"Se ha agregado el restaurant \" + one_restaurant.restaurant_name.title())\n",
    "one_restaurant.describe_restaurant()\n",
    "one_restaurant.open_restaurant()\n",
    "one_restaurant.set_number_served(50)\n",
    "one_restaurant.diners()\n",
    "one_restaurant.set_number_served(30)\n",
    "one_restaurant.diners()"
   ]
  },
  {
   "cell_type": "code",
   "execution_count": null,
   "metadata": {},
   "outputs": [],
   "source": []
  }
 ],
 "metadata": {
  "kernelspec": {
   "display_name": "Python 3",
   "language": "python",
   "name": "python3"
  },
  "language_info": {
   "codemirror_mode": {
    "name": "ipython",
    "version": 3
   },
   "file_extension": ".py",
   "mimetype": "text/x-python",
   "name": "python",
   "nbconvert_exporter": "python",
   "pygments_lexer": "ipython3",
   "version": "3.7.4"
  }
 },
 "nbformat": 4,
 "nbformat_minor": 2
}
