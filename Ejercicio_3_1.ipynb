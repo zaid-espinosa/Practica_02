{
 "cells": [
  {
   "cell_type": "markdown",
   "metadata": {},
   "source": [
    "# Modificando el valor de los atributos"
   ]
  },
  {
   "cell_type": "code",
   "execution_count": 2,
   "metadata": {},
   "outputs": [
    {
     "name": "stdout",
     "output_type": "stream",
     "text": [
      "2020 Audi A4\n",
      "This car has 23 miles on it\n"
     ]
    }
   ],
   "source": [
    "class Car():\n",
    "    #Clase tipo coche\n",
    "    def __init__(self, make, model, year):\n",
    "    #Inicializacion de los atributos\n",
    "        self.make = make\n",
    "        self.model = model\n",
    "        self.year = year\n",
    "        self.odometer_reading = 0\n",
    "    def get_descriptive_name(self):\n",
    "        #Imprime las caracteristicas en la pantalla\n",
    "        long_name = str(self.year)+' '+self.make + ' ' +self.model\n",
    "        return long_name.title()\n",
    "    def read_odometer(sefl):\n",
    "        #Imprime los kilometros recorrido por el auto\n",
    "        print(\"This car has \" + str(sefl.odometer_reading) + \" miles on it\")\n",
    "\n",
    "my_new_car = Car('audi','a4',2020)\n",
    "print(my_new_car.get_descriptive_name())\n",
    "my_new_car.odometer_reading = 23\n",
    "my_new_car.read_odometer()"
   ]
  }
 ],
 "metadata": {
  "kernelspec": {
   "display_name": "Python 3",
   "language": "python",
   "name": "python3"
  },
  "language_info": {
   "codemirror_mode": {
    "name": "ipython",
    "version": 3
   },
   "file_extension": ".py",
   "mimetype": "text/x-python",
   "name": "python",
   "nbconvert_exporter": "python",
   "pygments_lexer": "ipython3",
   "version": "3.7.4"
  }
 },
 "nbformat": 4,
 "nbformat_minor": 2
}
