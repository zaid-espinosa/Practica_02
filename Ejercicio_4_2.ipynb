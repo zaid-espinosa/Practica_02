{
 "cells": [
  {
   "cell_type": "code",
   "execution_count": 7,
   "metadata": {},
   "outputs": [
    {
     "name": "stdout",
     "output_type": "stream",
     "text": [
      "2020 Can-Am Spyder F3 Limited\n",
      "This car has 0 miles on it\n",
      "This car has 3 rims on it\n",
      "This car has 0 doors on it\n"
     ]
    }
   ],
   "source": [
    "class Car():\n",
    "    #Clase tipo coche\n",
    "    def __init__(self, make, model, year):\n",
    "    #Inicializacion de los atributos\n",
    "        self.make = make\n",
    "        self.model = model\n",
    "        self.year = year\n",
    "        self.rims= 4\n",
    "        self.doors= 2\n",
    "    \n",
    "    def get_descriptive_name(self):\n",
    "        #Imprime las caracteristicas en la pantalla\n",
    "        long_name = str(self.year)+ ' ' +self.make + ' ' +self.model\n",
    "        return long_name.title()\n",
    "   \n",
    "    def read_odometer(self):\n",
    "        self.odometer_reading = 0\n",
    "        #Imprime los kilometros recorrido por el auto\n",
    "        print(\"This car has \" + str(self.odometer_reading) + \" miles on it\")\n",
    "    \n",
    "    def rim(self):\n",
    "        print(\"This car has \" + str(self.rims) + \" rims on it\")\n",
    "    \n",
    "    def update_rim(self, llantas):\n",
    "        self.rims=llantas\n",
    "    \n",
    "    def door(self):\n",
    "        print(\"This car has \" + str(self.doors) + \" doors on it\")\n",
    "        \n",
    "    def update_door(self, puertas):\n",
    "        self.doors=puertas\n",
    "\n",
    "my_new_car = Car('can-am','spyder f3 limited',2020)\n",
    "print (my_new_car.get_descriptive_name())\n",
    "my_new_car.read_odometer()\n",
    "my_new_car.update_rim(3)\n",
    "my_new_car.rim()\n",
    "my_new_car.update_door(0)\n",
    "my_new_car.door()"
   ]
  },
  {
   "cell_type": "code",
   "execution_count": null,
   "metadata": {},
   "outputs": [],
   "source": []
  }
 ],
 "metadata": {
  "kernelspec": {
   "display_name": "Python 3",
   "language": "python",
   "name": "python3"
  },
  "language_info": {
   "codemirror_mode": {
    "name": "ipython",
    "version": 3
   },
   "file_extension": ".py",
   "mimetype": "text/x-python",
   "name": "python",
   "nbconvert_exporter": "python",
   "pygments_lexer": "ipython3",
   "version": "3.7.4"
  }
 },
 "nbformat": 4,
 "nbformat_minor": 2
}
