{
 "cells": [
  {
   "cell_type": "code",
   "execution_count": 52,
   "metadata": {},
   "outputs": [],
   "source": [
    "class User():      \n",
    "    def __init__(self,first_name,last_name,age_user,number_user):\n",
    "        self.first_name=first_name\n",
    "        self.last_name=last_name\n",
    "        self.age_user=age_user\n",
    "        self.number_user=number_user\n",
    "       \n",
    "        \n",
    "    def describe_user(self):\n",
    "         return ('Se ha creado el usuario {} {} con edad de {} años y numero de cuenta {}').format(self.first_name,\n",
    "                                                            self.last_name,self.age_user,self.number_user)\n",
    "                    \n",
    "    def gret_user(self):\n",
    "        print (self.first_name.title(), 'bienvenido a tu cuenta del Politécnico')\n",
    "        \n",
    "    def increment_login_attempts(self, going_in):\n",
    "        if going_in <= 10:\n",
    "            self.user_attempt = going_in\n",
    "        else: print(\"Has intentado demasiadas veces\")\n",
    "    \n",
    "    def reset_loging_attempts(self):\n",
    "        self.reset=user_attempt\n",
    "    \n",
    "    def read_number(self):\n",
    "        print(\"se han intentado iniciar sesion \"+str(self.user_attempt)+ \" veces.\")\n",
    "        \n",
    "p=User('antonio','espinosa', 22, 2020302334)           "
   ]
  },
  {
   "cell_type": "code",
   "execution_count": 53,
   "metadata": {},
   "outputs": [
    {
     "name": "stdout",
     "output_type": "stream",
     "text": [
      "se han intentado iniciar sesion 1 veces.\n",
      "se han intentado iniciar sesion 2 veces.\n",
      "se han intentado iniciar sesion 3 veces.\n",
      "se han intentado iniciar sesion 4 veces.\n",
      "se han intentado iniciar sesion 6 veces.\n",
      "se han intentado iniciar sesion 7 veces.\n",
      "se han intentado iniciar sesion 8 veces.\n",
      "se han intentado iniciar sesion 9 veces.\n",
      "se han intentado iniciar sesion 10 veces.\n",
      "Has intentado demasiadas veces\n",
      "se han intentado iniciar sesion 10 veces.\n"
     ]
    }
   ],
   "source": [
    "p.increment_login_attempts(1)\n",
    "p.read_number()\n",
    "p.increment_login_attempts(2)\n",
    "p.read_number()\n",
    "p.increment_login_attempts(3)\n",
    "p.read_number()\n",
    "p.increment_login_attempts(4)\n",
    "p.read_number()\n",
    "p.increment_login_attempts(6)\n",
    "p.read_number()\n",
    "p.increment_login_attempts(7)\n",
    "p.read_number()\n",
    "p.increment_login_attempts(8)\n",
    "p.read_number()\n",
    "p.increment_login_attempts(9)\n",
    "p.read_number()\n",
    "p.increment_login_attempts(10)\n",
    "p.read_number()\n",
    "p.increment_login_attempts(11)\n",
    "p.read_number()\n"
   ]
  },
  {
   "cell_type": "code",
   "execution_count": null,
   "metadata": {},
   "outputs": [],
   "source": []
  }
 ],
 "metadata": {
  "kernelspec": {
   "display_name": "Python 3",
   "language": "python",
   "name": "python3"
  },
  "language_info": {
   "codemirror_mode": {
    "name": "ipython",
    "version": 3
   },
   "file_extension": ".py",
   "mimetype": "text/x-python",
   "name": "python",
   "nbconvert_exporter": "python",
   "pygments_lexer": "ipython3",
   "version": "3.7.4"
  }
 },
 "nbformat": 4,
 "nbformat_minor": 2
}
