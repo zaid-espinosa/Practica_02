{
 "cells": [
  {
   "cell_type": "code",
   "execution_count": 27,
   "metadata": {},
   "outputs": [],
   "source": [
    "class Car():\n",
    "    #Un intento de representar un auto\n",
    "    def __init__(self, make, model, year): \n",
    "        self.make = make \n",
    "        self.model = model \n",
    "        self.year = year \n",
    "        self.odometer_reading = 0 \n",
    "    def get_descriptive_name(self): \n",
    "        long_name = str(self.year) + ' ' + self.make + ' ' + self.model \n",
    "        return long_name.title()\n",
    "    def read_odometer(self): \n",
    "        print(\"This car has \" + str(self.odometer_reading) + \" miles on it.\")\n",
    "\n",
    "    def update_odometer(self, mileage): \n",
    "        if mileage >= self.odometer_reading: \n",
    "            self.odometer_reading = mileage \n",
    "        else: \n",
    "            print(\"You can’t roll back an odometer!\")\n",
    "    \n",
    "    def increment_odometer(self, miles): \n",
    "        self.odometer_reading += miles\n",
    "        \n",
    "class ElectricCar(Car):\n",
    "    #Un intento de representar un auto electrico\n",
    "    def __init__(self,make,model,year):\n",
    "        # Inicializa los atributos de la clase padre \n",
    "        super().__init__(make,model,year)\n",
    "\n",
    "class HibrydCar(Car):\n",
    "    def __init__(self,make,model,year):\n",
    "        super().__init__(make,model,year)\n",
    "        self.sunroof = 2\n",
    "    \n",
    "    def describe_sunroof(self):\n",
    "        print ('This car have a ' + str(self.sunroof) + ' sunroof in the structure' )\n",
    "        \n",
    "class FullCar(Car):\n",
    "    def __init__(self,make,model,year):\n",
    "        super().__init__(make,model,year)\n",
    "        self.screens=4\n",
    "        \n",
    "    def describe_screens(self):\n",
    "        print ('This car have a ' + str(self.screens) + ' screens in all seats')"
   ]
  },
  {
   "cell_type": "code",
   "execution_count": 20,
   "metadata": {},
   "outputs": [
    {
     "name": "stdout",
     "output_type": "stream",
     "text": [
      "2020 Tesla Model A\n",
      "This car have a 2 sunroof in the structure\n"
     ]
    }
   ],
   "source": [
    "my_tesla = HibrydCar('tesla','model a',2020) \n",
    "print(my_tesla.get_descriptive_name())\n",
    "my_tesla.describe_sunroof()"
   ]
  },
  {
   "cell_type": "code",
   "execution_count": 28,
   "metadata": {},
   "outputs": [
    {
     "name": "stdout",
     "output_type": "stream",
     "text": [
      "2020 Tesla Model B\n",
      "This car have a 4 screens in all seats\n"
     ]
    }
   ],
   "source": [
    "my_tesla = FullCar('tesla','model b',2020) \n",
    "print(my_tesla.get_descriptive_name())\n",
    "my_tesla.describe_screens()"
   ]
  }
 ],
 "metadata": {
  "kernelspec": {
   "display_name": "Python 3",
   "language": "python",
   "name": "python3"
  },
  "language_info": {
   "codemirror_mode": {
    "name": "ipython",
    "version": 3
   },
   "file_extension": ".py",
   "mimetype": "text/x-python",
   "name": "python",
   "nbconvert_exporter": "python",
   "pygments_lexer": "ipython3",
   "version": "3.7.4"
  }
 },
 "nbformat": 4,
 "nbformat_minor": 2
}
