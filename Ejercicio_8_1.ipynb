{
 "cells": [
  {
   "cell_type": "code",
   "execution_count": 3,
   "metadata": {},
   "outputs": [
    {
     "name": "stdout",
     "output_type": "stream",
     "text": [
      "2020 Tesla Model S\n",
      "This car has a 70-kWh battery.\n",
      "The battery is almost empty, the car is charging\n"
     ]
    }
   ],
   "source": [
    "class Car(): \n",
    "    #Un intento de representar un auto\n",
    "    def __init__(self, make, model, year): \n",
    "        self.make = make \n",
    "        self.model = model \n",
    "        self.year = year \n",
    "        self.odometer_reading = 0 \n",
    "    \n",
    "    def get_descriptive_name(self): \n",
    "        long_name = str(self.year) + ' ' + self.make + ' ' + self.model \n",
    "        return long_name.title()\n",
    "    \n",
    "    def read_odometer(self): \n",
    "        print(\"This car has \" + str(self.odometer_reading) + \" miles on it.\")\n",
    "    \n",
    "    def update_odometer(self, mileage): \n",
    "        if mileage >= self.odometer_reading: \n",
    "            self.odometer_reading = mileage \n",
    "        else: \n",
    "            print(\"You can’t roll back an odometer!\")\n",
    "   \n",
    "    def increment_odometer(self, miles): self.odometer_reading += miles\n",
    "\n",
    "class ElectricCar(Car): \n",
    "    #Un intento de representar un auto electrico\n",
    "    def __init__(self,make,model,year): \n",
    "        #Inicializa los atributos de la clase padre\n",
    "        super().__init__(make,model,year)\n",
    "        self.battery_size = 70\n",
    "\n",
    "    def describe_battery(self): \n",
    "        # Imprime la el tamanio de la bateria \n",
    "        print(\"This car has a \" + str(self.battery_size) + \"-kWh battery.\")\n",
    "        \n",
    "    def charge(self): \n",
    "        print(\"The battery is almost empty, the car is charging\")\n",
    "\n",
    "my_tesla = ElectricCar('tesla','model s',2020) \n",
    "print(my_tesla.get_descriptive_name()) \n",
    "my_tesla.describe_battery() \n",
    "my_tesla.charge()\n"
   ]
  },
  {
   "cell_type": "code",
   "execution_count": null,
   "metadata": {},
   "outputs": [],
   "source": []
  }
 ],
 "metadata": {
  "kernelspec": {
   "display_name": "Python 3",
   "language": "python",
   "name": "python3"
  },
  "language_info": {
   "codemirror_mode": {
    "name": "ipython",
    "version": 3
   },
   "file_extension": ".py",
   "mimetype": "text/x-python",
   "name": "python",
   "nbconvert_exporter": "python",
   "pygments_lexer": "ipython3",
   "version": "3.7.4"
  }
 },
 "nbformat": 4,
 "nbformat_minor": 2
}
