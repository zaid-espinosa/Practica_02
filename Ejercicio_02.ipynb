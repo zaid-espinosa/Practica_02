{
 "cells": [
  {
   "cell_type": "markdown",
   "metadata": {},
   "source": [
    "# Utilizando valores predeterminados para alg ́un atributo"
   ]
  },
  {
   "cell_type": "markdown",
   "metadata": {},
   "source": [
    "**Ejercicio 2:**"
   ]
  },
  {
   "cell_type": "markdown",
   "metadata": {},
   "source": [
    "**Capture el programa anterior y ejec ́utelo, analice la salida del programa.**"
   ]
  },
  {
   "cell_type": "code",
   "execution_count": 9,
   "metadata": {},
   "outputs": [
    {
     "name": "stdout",
     "output_type": "stream",
     "text": [
      "2020 Audi A4\n",
      "This car has 0 miles on it\n"
     ]
    }
   ],
   "source": [
    "class Car():\n",
    "    #Clase tipo coche\n",
    "    def __init__(self, make, model, year):\n",
    "    #Inicializacion de los atributos\n",
    "        self.make = make\n",
    "        self.model = model\n",
    "        self.year = year\n",
    "        self.odometer_reading = 0\n",
    "    def get_descriptive_name(self):\n",
    "        #Imprime las caracteristicas en la pantalla\n",
    "        long_name = str(self.year)+ ' ' +self.make + ' ' +self.model\n",
    "        return long_name.title()\n",
    "    def read_odometer(self):\n",
    "        #Imprime los kilometros recorrido por el auto\n",
    "        print(\"This car has \" + str(self.odometer_reading) + \" miles on it\")\n",
    "\n",
    "my_new_car = Car('audi','a4',2020)\n",
    "print(my_new_car.get_descriptive_name())\n",
    "my_new_car.read_odometer()"
   ]
  },
  {
   "cell_type": "markdown",
   "metadata": {},
   "source": [
    "**borre self.odometer_reading del constructor y trate de definirlo dentro de read_odometer(self),\n",
    "trate de ejecutar el programa y anote la salida de la terminal. Esriba la raz ́on del error\n",
    "que aparece.**"
   ]
  },
  {
   "cell_type": "code",
   "execution_count": 10,
   "metadata": {},
   "outputs": [
    {
     "name": "stdout",
     "output_type": "stream",
     "text": [
      "2020 Audi A4\n",
      "This car has 0 miles on it\n"
     ]
    }
   ],
   "source": [
    "class Car():\n",
    "    #Clase tipo coche\n",
    "    def __init__(self, make, model, year):\n",
    "    #Inicializacion de los atributos\n",
    "        self.make = make\n",
    "        self.model = model\n",
    "        self.year = year\n",
    "    def get_descriptive_name(self):\n",
    "        #Imprime las caracteristicas en la pantalla\n",
    "        long_name = str(self.year)+ ' ' +self.make + ' ' +self.model\n",
    "        return long_name.title()\n",
    "    def read_odometer(self):\n",
    "        self.odometer_reading = 0\n",
    "        #Imprime los kilometros recorrido por el auto\n",
    "        print(\"This car has \" + str(self.odometer_reading) + \" miles on it\")\n",
    "\n",
    "my_new_car = Car('audi','a4',2020)\n",
    "print(my_new_car.get_descriptive_name())\n",
    "my_new_car.read_odometer()"
   ]
  },
  {
   "cell_type": "markdown",
   "metadata": {},
   "source": [
    "**Busque el error y lo detecte en la escritura 'sefl', al cambiarlas todas por 'self' me ejecuto definiendola adentro de read_odometer**"
   ]
  },
  {
   "cell_type": "markdown",
   "metadata": {},
   "source": [
    "**Agregue dos atributos predefinidos a la clase Car**"
   ]
  },
  {
   "cell_type": "code",
   "execution_count": 19,
   "metadata": {},
   "outputs": [
    {
     "name": "stdout",
     "output_type": "stream",
     "text": [
      "2020 Audi A4\n",
      "This car has 0 miles on it\n",
      "This car has 4 rims on it\n",
      "This car has 2 doors on it\n"
     ]
    }
   ],
   "source": [
    "class Car():\n",
    "    #Clase tipo coche\n",
    "    def __init__(self, make, model, year):\n",
    "    #Inicializacion de los atributos\n",
    "        self.make = make\n",
    "        self.model = model\n",
    "        self.year = year\n",
    "        self.rims= 4\n",
    "        self.doors= 2\n",
    "    \n",
    "    def get_descriptive_name(self):\n",
    "        #Imprime las caracteristicas en la pantalla\n",
    "        long_name = str(self.year)+ ' ' +self.make + ' ' +self.model\n",
    "        return long_name.title()\n",
    "   \n",
    "    def read_odometer(self):\n",
    "        self.odometer_reading = 0\n",
    "        #Imprime los kilometros recorrido por el auto\n",
    "        print(\"This car has \" + str(self.odometer_reading) + \" miles on it\")\n",
    "    \n",
    "    def rim(self):\n",
    "        print(\"This car has \" + str(self.rims) + \" rims on it\")\n",
    "    \n",
    "    def door(self):\n",
    "        print(\"This car has \" + str(self.doors) + \" doors on it\")\n",
    "   \n",
    "print (my_new_car.get_descriptive_name())\n",
    "my_new_car.read_odometer()\n",
    "my_new_car.rim()\n",
    "my_new_car.door()\n"
   ]
  }
 ],
 "metadata": {
  "kernelspec": {
   "display_name": "Python 3",
   "language": "python",
   "name": "python3"
  },
  "language_info": {
   "codemirror_mode": {
    "name": "ipython",
    "version": 3
   },
   "file_extension": ".py",
   "mimetype": "text/x-python",
   "name": "python",
   "nbconvert_exporter": "python",
   "pygments_lexer": "ipython3",
   "version": "3.7.4"
  }
 },
 "nbformat": 4,
 "nbformat_minor": 2
}
