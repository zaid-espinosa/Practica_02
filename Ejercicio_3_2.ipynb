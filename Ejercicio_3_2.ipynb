{
 "cells": [
  {
   "cell_type": "markdown",
   "metadata": {},
   "source": [
    "# Modificando los valores através de los métodos"
   ]
  },
  {
   "cell_type": "code",
   "execution_count": 7,
   "metadata": {},
   "outputs": [
    {
     "name": "stdout",
     "output_type": "stream",
     "text": [
      "2020 Audi A4\n",
      "This car has 0 miles on it\n",
      "This car has 12 rims on it\n",
      "This car has 4 doors on it\n"
     ]
    }
   ],
   "source": [
    "class Car():\n",
    "    #Clase tipo coche\n",
    "    def __init__(self, make, model, year):\n",
    "    #Inicializacion de los atributos\n",
    "        self.make = make\n",
    "        self.model = model\n",
    "        self.year = year\n",
    "        self.rims= 4\n",
    "        self.doors= 2\n",
    "    \n",
    "    def get_descriptive_name(self):\n",
    "        #Imprime las caracteristicas en la pantalla\n",
    "        long_name = str(self.year)+ ' ' +self.make + ' ' +self.model\n",
    "        return long_name.title()\n",
    "   \n",
    "    def read_odometer(self):\n",
    "        self.odometer_reading = 0\n",
    "        #Imprime los kilometros recorrido por el auto\n",
    "        print(\"This car has \" + str(self.odometer_reading) + \" miles on it\")\n",
    "    \n",
    "    def rim(self):\n",
    "        print(\"This car has \" + str(self.rims) + \" rims on it\")\n",
    "    \n",
    "    def door(self):\n",
    "        print(\"This car has \" + str(self.doors) + \" doors on it\")\n",
    "\n",
    "my_new_car = Car('audi','a4',2020)\n",
    "print (my_new_car.get_descriptive_name())\n",
    "my_new_car.read_odometer()\n",
    "my_new_car.rims= 12\n",
    "my_new_car.rim()\n",
    "my_new_car.doors=4\n",
    "my_new_car.door()"
   ]
  }
 ],
 "metadata": {
  "kernelspec": {
   "display_name": "Python 3",
   "language": "python",
   "name": "python3"
  },
  "language_info": {
   "codemirror_mode": {
    "name": "ipython",
    "version": 3
   },
   "file_extension": ".py",
   "mimetype": "text/x-python",
   "name": "python",
   "nbconvert_exporter": "python",
   "pygments_lexer": "ipython3",
   "version": "3.7.4"
  }
 },
 "nbformat": 4,
 "nbformat_minor": 2
}
